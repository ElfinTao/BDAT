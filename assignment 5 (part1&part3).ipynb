{
 "cells": [
  {
   "cell_type": "code",
   "execution_count": 14,
   "metadata": {
    "scrolled": false
   },
   "outputs": [
    {
     "name": "stdout",
     "output_type": "stream",
     "text": [
      "['calEvent', 'orgType', 'startDate', 'thumbImage', 'fileSize', 'fileType', 'binId', 'fileName', 'url', 'timeInfo', 'weeklyDates', 'orgAddress', 'isCityEvent', 'terms', 'contactTitle', 'endDate', 'frequency', 'partnerType', 'eventWebsite', 'orgPhone', 'dates', 'eventEmail', 'locations', 'description', 'orgEmail', 'otherCostInfo', 'features', 'Bike Racks', 'Free Parking', 'Public Washrooms', 'categoryString', 'themeString', 'isWidgetEvent', 'accessibility', 'partnerName', 'subsetCalendarString', 'allDay', 'theme', 'image', 'fileSize', 'fileType', 'binId', 'fileName', 'altText', 'credit', 'url', 'reservationsRequired', 'recId', 'orgName', 'eventPhone', 'category', 'admin', 'reviewerComments', 'includeInMainCalendar', 'updateTimestamp', 'newsletterCategory', 'includeInNewsletter', 'newsletterSubcategory', 'featuredEvent', 'approvedTimestamp', 'subsetCalendar', 'approvedBy', 'updatedBy', 'contactName', 'freeEvent', 'eventName']\n"
     ]
    }
   ],
   "source": [
    "import json\n",
    "\n",
    "file = open(\"/Users/elfin/Desktop/festivals-and-events-json-feed.json\",'r', encoding='UTF-8')\n",
    "a = file.read()\n",
    "data = json.loads(a)\n",
    "keys = []\n",
    "for aa, bb in data[1].items():\n",
    "    keys.append(aa)\n",
    "    for key in bb:\n",
    "        keys.append(key)\n",
    "        if isinstance(bb[key], dict):\n",
    "            for aa1, bb1 in bb[key].items():\n",
    "                keys.append(aa1)\n",
    "print(keys)"
   ]
  },
  {
   "cell_type": "code",
   "execution_count": 9,
   "metadata": {},
   "outputs": [
    {
     "name": "stdout",
     "output_type": "stream",
     "text": [
      " \n",
      "{'calEvent': {'orgType': 'Non-Profit', 'startDate': '2019-08-26T04:00:00.000Z', 'thumbImage': {'fileSize': 25688, 'fileType': 'image/png', 'binId': 'Fzv9g8ZdpyNzdO77xdd72w', 'fileName': 'https___cdn.evbuc.com_images_62118860_111743165807_1_original_th.png', 'url': '/webapps/CC/fileAPI/edc_eventcal/https___cdn_Fzv9g8ZdpyNzdO77xdd72w.evbuc.com_images_62118860_111743165807_1_original_th.png'}, 'timeInfo': '', 'weeklyDates': [{'startTime': '2019-07-16T11:30:00.000Z', '$$hashKey': 'object:1107', 'weekDay': [{'day': 'Monday'}], 'endTime': '2019-07-17T01:30:00.000Z'}, {'startTime': '2019-07-16T11:30:00.000Z', '$$hashKey': 'object:1108', 'weekDay': [{'day': 'Tuesday'}], 'endTime': '2019-07-17T01:30:00.000Z'}, {'startTime': '2019-07-16T11:30:00.000Z', '$$hashKey': 'object:1109', 'weekDay': [{'day': 'Wednesday'}], 'endTime': '2019-07-17T01:30:00.000Z'}, {'startTime': '2019-07-16T11:30:00.000Z', '$$hashKey': 'object:1110', 'weekDay': [{'day': 'Thursday'}], 'endTime': '2019-07-17T01:30:00.000Z'}, {'startTime': '2019-07-16T11:30:00.000Z', '$$hashKey': 'object:1111', 'weekDay': [{'day': 'Friday'}], 'endTime': '2019-07-17T01:30:00.000Z'}, {'startTime': '2019-07-16T12:00:00.000Z', '$$hashKey': 'object:1112', 'weekDay': [{'day': 'Saturday'}], 'endTime': '2019-07-16T22:00:00.000Z'}, {'startTime': '2019-07-16T12:00:00.000Z', '$$hashKey': 'object:1113', 'weekDay': [{'day': 'Sunday'}], 'endTime': '2019-07-16T22:00:00.000Z'}], 'orgAddress': '420 Consumers Road, Toronto, M2J 1P8', 'terms': 'agree', 'contactTitle': 'Community Outreach Co-ordinator', 'endDate': '2019-09-01T04:00:00.000Z', 'frequency': 'weekly', 'partnerType': 'presentedby', 'eventWebsite': 'https://www.eventbrite.ca/e/art-of-zhen-shan-ren-international-exhibition-tickets-61727973029', 'orgPhone': '4166271515', 'dates': [{'startDateTime': '2019-08-26T11:30:00.000Z', 'endDateTime': '2019-08-27T01:30:00.000Z'}, {'startDateTime': '2019-08-27T11:30:00.000Z', 'endDateTime': '2019-08-28T01:30:00.000Z'}, {'startDateTime': '2019-08-28T11:30:00.000Z', 'endDateTime': '2019-08-29T01:30:00.000Z'}, {'startDateTime': '2019-08-29T11:30:00.000Z', 'endDateTime': '2019-08-30T01:30:00.000Z'}, {'startDateTime': '2019-08-30T11:30:00.000Z', 'endDateTime': '2019-08-31T01:30:00.000Z'}, {'startDateTime': '2019-08-31T12:00:00.000Z', 'endDateTime': '2019-08-31T22:00:00.000Z'}, {'startDateTime': '2019-09-01T12:00:00.000Z', 'endDateTime': '2019-09-01T22:00:00.000Z'}], 'locations': [{'id': '68c536cc-8167-dd41-66c7-7191bab35d6e', 'coords': {'lng': -79.38409389999998, 'lat': 43.6534829}, '$$hashKey': 'object:1105', 'address': '100 Queen St W, Toronto, ON M5G 1P5, Canada', 'geoCoded': True, 'locationType': [{'type': 'marker'}], 'locationName': 'Toronto City Hall, Rotunda', 'type': 'marker'}], 'eventEmail': 'zhengnianxing99@gmail.com', 'description': 'The Art of Truth Compassion Tolerance is a collection of over 60 paintings by internationally renowned Chinese and western artists, including Canadian artists, Xiaoping Chen, Kathleen Gillis, Ben Li, and Professor Kunlun Zhang, the founder.&#10;&#10;Since its debut in July 2004 in Washington D.C. at the Rayburn House, U.S. Congress building, the Exhibition has toured more than 50 countries with over 1,000 showings worldwide. Falun Dafa Association of Toronto is proud of introducing to residents of the city the rare opportunity to explore the art that has moved and inspired many people around the world.', 'orgEmail': 'liucathy52@gmail.com', 'features': {'Paid Parking': True, 'Public Washrooms': True}, 'categoryString': 'Arts/Exhibits', 'themeString': '', 'isWidgetEvent': False, 'accessibility': 'full', 'partnerName': 'Falun Dafa Association', 'subsetCalendarString': '', 'theme': [{'name': ''}], 'image': {'fileSize': 26951, 'fileType': 'image/jpeg', 'binId': 'OF569OKPvdF-E6wa7DTQtg', 'fileName': 'https___cdn.evbuc.com_images_62118860_111743165807_1_original.jpg', 'credit': 'Oil Canvas by Yuan Li', 'altText': \"Held closely is the main book of Falun Gong's teachings, Zhuan Falun, suggesting both its place in the practitioner's heart and her holding fast to the principles; for refusing to recant their belief, many in China face torture. The angelic presence here suggests a sense of higher support and meaning in the woman's life.\", 'url': '/webapps/CC/fileAPI/edc_eventcal/https___cdn_OF569OKPvdF-E6wa7DTQtg.evbuc.com_images_62118860_111743165807_1_original.jpg'}, 'reservationsRequired': 'Yes', 'recId': 'uqrHYlK224J4TRc76cRwMw', 'orgName': 'Falun Dafa Association of Toronto', 'expectedAvg': 500, 'eventPhone': '4166271515', 'category': [{'name': 'Arts/Exhibits'}], 'admin': {'reviewerComments': 'SM 07/16/19', 'updateTimestamp': '2019-07-16T21:44:52.901Z', 'newsletterCategory': [], 'includeInNewsletter': False, 'newsletterSubcategory': [], 'featuredEvent': False, 'approvedTimestamp': '2019-07-16T21:44:52.901Z', 'subsetCalendar': [], 'approvedBy': 'smotluk', 'updatedBy': 'smotluk'}, 'contactName': 'Cathy Liu', 'reservation': {'phone': '4166271515', 'email': 'zhengnianxing99@gmail.com', 'website': 'http://tickets.zsr-art.ca'}, 'freeEvent': 'Yes', 'eventName': 'The Art of Truth Compassion Tolerance'}}\n",
      " \n",
      "{'calEvent': {'startDate': '2019-09-08T04:00:00.000Z', 'thumbImage': {'fileSize': 74565, 'fileType': 'image/png', 'binId': '2cZ1fGdOs-OHDWH4luHfjg', 'fileName': 'Oblivion_th.png', 'url': '/webapps/CC/fileAPI/edc_eventcal/Oblivion_th_2cZ1fGdOs-OHDWH4luHfjg.png'}, 'startDateTime': '2019-09-08T04:00:00.000Z', 'orgAddress': '3060 Harvey Cres', 'terms': 'agree', 'endDate': '2019-09-08T04:00:00.000Z', 'frequency': 'once', 'partnerType': 'none', 'eventWebsite': 'http://oblivioncarshow.ca/', 'orgPhone': '6475248444', 'locations': [{'id': 'e166b997-5a58-8ca4-16e7-253c4b5ee5e0', 'coords': {'lng': -79.42139663550415, 'lat': 43.62839191836637}, '$$hashKey': 'object:7522', 'address': '955 Lake Shore Blvd W, Toronto, ON M6K 3B9, Canada', 'geoCoded': True, 'locationType': [{'type': 'marker'}], 'locationName': 'Ontario Place', 'type': 'marker'}], 'eventEmail': 'info@oblivioncarshow.ca', 'dates': [{'startDateTime': '2019-09-08T04:00:00.000Z', 'allDay': True, 'endDateTime': '2019-09-08T04:00:00.000Z'}], 'description': 'The 80s &amp; 90s are back from Oblivion with a show for the cars, games, tunes, and threads at Ontario Place.&#10;&#10;Celebrate our generation of classic and collector cars (made from 1980-1999 only) and the culture we loved at the most retro place in Canada!&#10;&#10;Dig up your best 80s and 90s clothing, period correct dress is a must!&#10;&#10;Food trucks will be on site, plus enjoy the candy, the clothing, the collectibles, and play the video games you loved on big screens!', 'orgEmail': 'tori@oblivioncarshow.ca', 'otherCostInfo': 'Vehicle Entry: $25&#10;VIP: $75', 'features': {'Paid Parking': True}, 'categoryString': 'Arts/Exhibits,Family/Children,Street Festival', 'themeString': '', 'isWidgetEvent': False, 'accessibility': 'full', 'admissionType': 'GA', 'subsetCalendarString': '', 'allDay': True, 'theme': [{'name': ''}], 'image': {'fileSize': 816574, 'fileType': 'image/png', 'binId': 'OaWYRz0EfSeHRYi0DskExw', 'fileName': 'Oblivion.PNG', 'altText': 'OBLIVION Car Show 2019 Poster', 'url': '/webapps/CC/fileAPI/edc_eventcal/Oblivion_OaWYRz0EfSeHRYi0DskExw.PNG'}, 'reservationsRequired': 'No', 'recId': 'RhIKUlMxZ5SnTceO0KLiAA', 'orgName': '2464779 ONTARIO INC.', 'cost': {'ga': 5}, 'endDateTime': '2019-09-08T04:00:00.000Z', 'expectedAvg': 2000, 'category': [{'name': 'Arts/Exhibits'}, {'name': 'Family/Children'}, {'name': 'Street Festival'}], 'admin': {'reviewerComments': 'SM 07/16/19', 'updateTimestamp': '2019-07-16T15:35:29.845Z', 'newsletterCategory': [], 'includeInNewsletter': False, 'newsletterSubcategory': [], 'featuredEvent': False, 'approvedTimestamp': '2019-07-16T15:35:29.845Z', 'subsetCalendar': [], 'approvedBy': 'smotluk', 'updatedBy': 'smotluk'}, 'contactName': 'Tori Tokarsky', 'freeEvent': 'No', 'eventName': 'Oblivion Car Show'}}\n",
      " \n",
      "{'calEvent': {'orgType': 'Public Agency', 'startDate': '2019-07-20T04:00:00.000Z', 'timeInfo': 'Outdoor events are subject to change due to high wind, rain or other weather conditions. For up-to-date listings and alternate dates as needed, please the website.', 'startDateTime': '2019-07-21T00:30:00.000Z', 'orgAddress': '100 Queen Street', 'contactTitle': 'Manager Public Relations and Issues Management PFR', 'terms': 'agree', 'endDate': '2019-07-20T04:00:00.000Z', 'frequency': 'once', 'partnerType': 'presentedby', 'eventWebsite': 'http://www.johnfilion.ca', 'orgPhone': '4163956065', 'dates': [{'startDateTime': '2019-07-21T00:30:00.000Z', 'endDateTime': None}], 'locations': [{'id': '2ae09b06-2f9c-df96-7f9d-d0e575ab59bd', 'coords': {'lng': -79.41340214760743, 'lat': 43.76769778441817}, '$$hashKey': 'object:704', 'address': 'Mel Lastman Square, 5100 Yonge St, North York, ON M2N 5V7, Canada', 'geoCoded': True, 'locationType': [{'type': 'marker'}], 'locationName': 'Mel Lastman Square', 'type': 'marker'}], 'description': \"Come by for a free outdoor screening of First Man in celebration of the 50th anniversary of the Apollo 11 moon landing. &#10;&#10;Directed by award-winning filmmaker Damien Chazelle, First Man tells the riveting story of NASA's goal to land a man on the moon. Starring Ryan Gosling and Claire Foy, the film is a look at the life of Neil Armstrong and the mission that led him to become the first man to walk on the moon.  &#10;&#10;In addition to the screening of the acclaimed feature film, guests are welcome to grab free popcorn at the snack bar!\", 'orgEmail': 'Jane.Arbour@toronto.ca', 'categoryString': 'Celebrations/Holiday,Film,Public Square', 'themeString': '', 'isWidgetEvent': False, 'accessibility': 'none', 'partnerName': 'Toronto City Councillor John Filion (Ward 18 Willowdale)', 'subsetCalendarString': '', 'theme': [], 'reservationsRequired': 'No', 'recId': 'hnmsVy6PqM1cW_XVuiUdoA', 'orgName': 'City of Toronto', 'endDateTime': None, 'category': [{'name': 'Celebrations/Holiday'}, {'name': 'Film'}, {'name': 'Public Square'}], 'contactName': 'Jane Arbour', 'admin': {'reviewerComments': 'SD - July 16 2019', 'updateTimestamp': '2019-07-16T16:14:56.822Z', 'newsletterCategory': [], 'includeInNewsletter': False, 'newsletterSubcategory': [], 'featuredEvent': False, 'approvedTimestamp': '2019-07-16T16:14:56.823Z', 'subsetCalendar': [], 'approvedBy': 'sdair', 'updatedBy': 'sdair'}, 'freeEvent': 'Yes', 'eventName': 'Screening of First Man'}}\n",
      " \n",
      "{'calEvent': {'orgType': 'Private/Business', 'startDate': '2019-08-03T04:00:00.000Z', 'thumbImage': {'fileSize': 49061, 'fileType': 'image/png', 'binId': 'GZ2lI9k_32iMpBiQRzFrEw', 'fileName': 'DANTE_th.png', 'url': '/webapps/CC/fileAPI/edc_eventcal/DANTE_th_GZ2lI9k_32iMpBiQRzFrEw.png'}, 'startDateTime': '2019-08-04T00:00:00.000Z', 'orgAddress': '695 Indian Rd., unit 1', 'terms': 'agree', 'endDate': '2019-08-03T04:00:00.000Z', 'frequency': 'once', 'partnerType': 'none', 'eventWebsite': 'https://www.facebook.com/events/349018649346552/', 'orgPhone': '4165615644', 'locations': [{'id': 'c6bb56c1-487c-1dd0-542c-acb195f285eb', 'coords': {'lng': -79.39763619999997, 'lat': 43.6487522}, '$$hashKey': 'object:1325', 'address': '408 Queen St W, Toronto, ON M5V 2A7, Canada', 'geoCoded': True, 'locationType': [{'type': 'marker'}], 'locationName': 'The Cameron House', 'type': 'marker'}], 'dates': [{'startDateTime': '2019-08-04T00:00:00.000Z', 'endDateTime': '2019-08-04T03:00:00.000Z'}], 'eventEmail': 'dantematasmusic@gmail.com', 'description': 'Dante Matas single release show featuring Drago Dit Dragon and Mike Legere', 'orgEmail': 'dantematasmusic@gmail.com', 'features': {'Bike Racks': True, 'Paid Parking': True, 'Onsite Food and Beverages': True, 'Public Washrooms': True}, 'categoryString': 'Music', 'themeString': '', 'isWidgetEvent': False, 'accessibility': 'full', 'admissionType': 'GA', 'subsetCalendarString': '', 'theme': [], 'image': {'fileSize': 239514, 'fileType': 'image/jpeg', 'binId': 'e59CF98XBWOg6Wq_Q--nZQ', 'fileName': 'DANTE.jpg', 'altText': 'Dante Matas Single Release Show with Drago Dit Dragon and Mike Legere at The Cameron House August 3rd, $10 cover.', 'url': '/webapps/CC/fileAPI/edc_eventcal/DANTE_e59CF98XBWOg6Wq_Q--nZQ.jpg'}, 'reservationsRequired': 'No', 'recId': '2mPoOKe$GoL$lwkDo2Xh3g', 'orgName': 'Dante Matas', 'cost': {'ga': 10}, 'endDateTime': '2019-08-04T03:00:00.000Z', 'expectedAvg': 75, 'eventPhone': '4165615644', 'category': [{'name': 'Music'}], 'admin': {'reviewerComments': 'SM 07/16/19', 'updateTimestamp': '2019-07-16T18:06:53.174Z', 'newsletterCategory': [], 'includeInNewsletter': False, 'newsletterSubcategory': [], 'featuredEvent': False, 'approvedTimestamp': '2019-07-16T18:06:53.175Z', 'subsetCalendar': [], 'approvedBy': 'smotluk', 'updatedBy': 'smotluk'}, 'contactName': 'Dante Matas', 'freeEvent': 'No', 'eventName': 'Dante Matas Single Release at The Cameron House'}}\n",
      " \n",
      "{'calEvent': {'orgType': 'Other', 'startDate': '2019-07-21T04:00:00.000Z', 'thumbImage': {'fileSize': 84003, 'fileType': 'image/png', 'binId': 'c1K5KcGXjALUK0DM7l_S_g', 'fileName': 'Air_th.png', 'url': '/webapps/CC/fileAPI/edc_eventcal/Air_th_c1K5KcGXjALUK0DM7l_S_g.png'}, 'eventPhoneExt': '0', 'startDateTime': '2019-07-21T14:30:00.000Z', 'orgAddress': '140 Wineva Avenue Toronto, ON M4E 2T4', 'terms': 'agree', 'contactTitle': 'Children and Youth Coordinator', 'endDate': '2019-07-21T04:00:00.000Z', 'frequency': 'once', 'orgPhoneExt': '', 'partnerType': 'none', 'eventWebsite': 'https://www.eventbrite.ca/e/awesome-air-tickets-64309257721', 'orgPhone': '4166918082', 'dates': [{'startDateTime': '2019-07-21T14:30:00.000Z', 'endDateTime': '2019-07-21T16:00:00.000Z'}], 'locations': [{'id': '60cee8f1-d15e-6571-aeaf-1615459c2b09', 'coords': {'lng': -79.29924440000002, 'lat': 43.6700503}, '$$hashKey': 'object:622', 'address': '2075 Queen St E, Toronto, ON M4L 1J1, Canada', 'geoCoded': True, 'locationType': [{'type': 'marker'}], 'locationName': 'Leuty Lifeguard Station  Toronto, ON', 'type': 'marker'}], 'eventEmail': 'youth@beachuc.com', 'description': 'A day to awe in wonder of all things of the wind and sky! We will look at the sky, clouds, sun, wind, and power of the atmosphere exploring all sky-bound things!&#10;&#10;Mindful Meditation for Families: breathing, flying visualization &amp; gentle movement!&#10;&#10;Building aero-dynamic paper airplanes/flying competition&#10;&#10;Kite flying, bubble blowing and more!', 'orgEmail': 'youth@beachuc.com', 'features': {'Public Washrooms': False}, 'categoryString': 'Celebrations/Holiday,Family/Children', 'themeString': '', 'isWidgetEvent': False, 'accessibility': 'full', 'subsetCalendarString': '', 'theme': [], 'image': {'fileSize': 1090711, 'fileType': 'image/jpeg', 'binId': 'zkggqpqAWSJzZm5N4vt1Lw', 'fileName': 'Air.jpg', 'altText': 'Awesome Air-Mindfulness meditation session, kite flying and more for families and children', 'credit': 'Beach United Church', 'url': '/webapps/CC/fileAPI/edc_eventcal/Air_zkggqpqAWSJzZm5N4vt1Lw.jpg'}, 'reservationsRequired': 'No', 'recId': 'cqHGevqU$pErhUhMhYWCeA', 'orgName': 'Beach United Church', 'endDateTime': '2019-07-21T16:00:00.000Z', 'expectedAvg': 20, 'eventPhone': '4166918082', 'category': [{'name': 'Celebrations/Holiday'}, {'name': 'Family/Children'}], 'admin': {'reviewerComments': 'SM 07/16/19', 'updateTimestamp': '2019-07-16T17:08:18.315Z', 'newsletterCategory': [], 'includeInNewsletter': False, 'newsletterSubcategory': [], 'featuredEvent': False, 'approvedTimestamp': '2019-07-16T17:08:18.316Z', 'subsetCalendar': [], 'approvedBy': 'smotluk', 'updatedBy': 'smotluk'}, 'contactName': 'Dayna Browne', 'freeEvent': 'Yes', 'eventName': 'Awesome Air', 'orgTypeOther': 'Charity'}}\n",
      " \n"
     ]
    }
   ],
   "source": [
    "#the last 5\n",
    "\n",
    "import json\n",
    "\n",
    "file = open(\"/Users/elfin/Desktop/festivals-and-events-json-feed.json\",'r', encoding='UTF-8')\n",
    "a = file.read()\n",
    "data = json.loads(a)\n",
    "keys = []\n",
    "for aa, bb in data[1].items():\n",
    "    keys.append(aa)\n",
    "    for key in bb:\n",
    "        keys.append(key)\n",
    "        if isinstance(bb[key], dict):\n",
    "            for aa1, bb1 in bb[key].items():\n",
    "                keys.append(aa1)\n",
    "print(\" \")\n",
    "for i in range (346, 351):\n",
    "    print(data[i])\n",
    "    print(\" \")"
   ]
  },
  {
   "cell_type": "code",
   "execution_count": 15,
   "metadata": {},
   "outputs": [
    {
     "name": "stdout",
     "output_type": "stream",
     "text": [
      "Student :\n",
      "('MIC DALEN', 34)\n",
      "Course :\n",
      "('BIO', 'bbb')\n",
      "Student :\n",
      "('JC AMIE', 20)\n",
      "Course :\n",
      "('MUSIC', 'ccc')\n",
      "Student :\n",
      "('JAC DON', 45)\n",
      "Course :\n",
      "('MATH', 'aaa')\n"
     ]
    }
   ],
   "source": [
    "import sqlite3\n",
    "conn = sqlite3.connect('Student.sqlite', timeout = 10)\n",
    "cur = conn.cursor()\n",
    "cur.execute('DROP TABLE IF EXISTS Student')\n",
    "cur.execute('CREATE TABLE Student (name TEXT, id INTEGER)')\n",
    "cur.execute('INSERT INTO Student (name, id) VALUES(?, ?)',('JC AMIE', 20))\n",
    "cur.execute('INSERT INTO Student (name, id) VALUES(?, ?)',('MIC DALEN', 34))\n",
    "cur.execute('INSERT INTO Student (name, id) VALUES(?, ?)', ('JAC DON', 45))\n",
    "print ('Student :')\n",
    "cur.execute('SELECT name, id FROM Student WHERE id = 34')\n",
    "for row in cur:\n",
    "    print(row)\n",
    "    \n",
    "cur.execute('DROP TABLE IF EXISTS Course')\n",
    "cur.execute('CREATE TABLE Course (course TEXT, id TEXT)')\n",
    "cur.execute('INSERT INTO Course (course, id) VALUES(?, ?)',('MATH', 'aaa'))\n",
    "cur.execute('INSERT INTO Course (course, id) VALUES(?, ?)',('BIO', 'bbb'))\n",
    "cur.execute('INSERT INTO Course (course, id) VALUES(?, ?)', ('MUSIC', 'ccc'))\n",
    "print ('Course :')\n",
    "cur.execute('SELECT course, id FROM Course WHERE course = \"BIO\"')\n",
    "for row in cur:\n",
    "    print(row)\n",
    "\n",
    "print ('Student :')\n",
    "cur.execute('SELECT name, id FROM Student WHERE id = 20')\n",
    "for row in cur:\n",
    "    print (row)         \n",
    "print ('Course :')\n",
    "cur.execute('SELECT course, id FROM Course WHERE course = \"MUSIC\"')\n",
    "for row in cur:\n",
    "    print(row)\n",
    "print ('Student :')\n",
    "cur.execute('SELECT name, id FROM Student WHERE id = 45')\n",
    "for row in cur:\n",
    "    print (row)         \n",
    "print ('Course :')\n",
    "cur.execute('SELECT course, id FROM Course WHERE course = \"MATH\"')\n",
    "for row in cur:\n",
    "    print(row)   \n",
    "cur.close()"
   ]
  }
 ],
 "metadata": {
  "kernelspec": {
   "display_name": "Python 3",
   "language": "python",
   "name": "python3"
  },
  "language_info": {
   "codemirror_mode": {
    "name": "ipython",
    "version": 3
   },
   "file_extension": ".py",
   "mimetype": "text/x-python",
   "name": "python",
   "nbconvert_exporter": "python",
   "pygments_lexer": "ipython3",
   "version": "3.7.3"
  }
 },
 "nbformat": 4,
 "nbformat_minor": 2
}
