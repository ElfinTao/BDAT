{
 "cells": [
  {
   "cell_type": "markdown",
   "metadata": {},
   "source": [
    "# Assignment 2 Variables, Conditions and Functions "
   ]
  },
  {
   "cell_type": "markdown",
   "metadata": {},
   "source": [
    "## Chapter 2"
   ]
  },
  {
   "cell_type": "markdown",
   "metadata": {},
   "source": [
    "### Exercise 2: Write a program that uses input to prompt a user for their name and then welcomes them."
   ]
  },
  {
   "cell_type": "code",
   "execution_count": 5,
   "metadata": {},
   "outputs": [
    {
     "name": "stdout",
     "output_type": "stream",
     "text": [
      "Hi, what is your name?Elfin\n",
      "Welcome to Canada! Elfin\n"
     ]
    }
   ],
   "source": [
    "name = input ('Hi, what is your name?')\n",
    "print ('Welcome to Canada!' + ' '+ name)"
   ]
  },
  {
   "cell_type": "markdown",
   "metadata": {},
   "source": [
    "### Exercise 3: Write a program to prompt the user for hours and rate per hour to compute gross pay."
   ]
  },
  {
   "cell_type": "code",
   "execution_count": 6,
   "metadata": {},
   "outputs": [
    {
     "name": "stdout",
     "output_type": "stream",
     "text": [
      "hours: 45\n",
      "rateperhour: 18\n",
      "Pay: 810.0\n"
     ]
    }
   ],
   "source": [
    "hours = input ('hours: ')\n",
    "rateperhour = input ('rateperhour: ')\n",
    "pay = (float(hours) * float(rateperhour))\n",
    "print (('Pay:'), pay)"
   ]
  },
  {
   "cell_type": "markdown",
   "metadata": {},
   "source": [
    "### Exercise 4: Assume that we execute the following assignment statements:"
   ]
  },
  {
   "cell_type": "code",
   "execution_count": 7,
   "metadata": {},
   "outputs": [
    {
     "name": "stdout",
     "output_type": "stream",
     "text": [
      "8.5\n",
      "8.5\n",
      "4.0\n",
      "11\n"
     ]
    }
   ],
   "source": [
    "width = 17\n",
    "height = 12.0\n",
    "\n",
    "print (width/2)     # int\n",
    "print (width/2.0)  # float\n",
    "print (height/3)   #  float\n",
    "print (1 + 2 * 5)  # int"
   ]
  },
  {
   "cell_type": "markdown",
   "metadata": {},
   "source": [
    "Exercise 5: Write a program which prompts the user for a Celsius temperature, convert the temperature to Fahrenheit, and print out the converted temperature."
   ]
  },
  {
   "cell_type": "code",
   "execution_count": 8,
   "metadata": {},
   "outputs": [
    {
     "name": "stdout",
     "output_type": "stream",
     "text": [
      "Celsius: 28\n",
      "Fahrenheit: 82\n"
     ]
    }
   ],
   "source": [
    "Celsius = input ('Celsius: ')\n",
    "Fahrenheit = (int(Celsius) * 1.8 + 32)\n",
    "print (('Fahrenheit:'), int(Fahrenheit))"
   ]
  },
  {
   "cell_type": "markdown",
   "metadata": {},
   "source": [
    "## Chapter 3"
   ]
  },
  {
   "cell_type": "markdown",
   "metadata": {},
   "source": [
    "### Exercise 1: Rewrite your pay computation to give the employee 1.5 times the hourly rate for hours worked above 40 hours."
   ]
  },
  {
   "cell_type": "code",
   "execution_count": 9,
   "metadata": {},
   "outputs": [
    {
     "name": "stdout",
     "output_type": "stream",
     "text": [
      "hours: 50\n",
      "rateperhour: 18\n",
      "Pay: 990.0\n"
     ]
    }
   ],
   "source": [
    "hours = input ('hours: ')\n",
    "rateperhour = input ('rateperhour: ')\n",
    "if float(hours) > 40:\n",
    "    pay = ((float(hours) - 40) * (float(rateperhour)*1.5)) + (40 * float(rateperhour))\n",
    "else:\n",
    "    pay = (float(hours) * float(rateperhour))\n",
    "print (('Pay:'), pay)"
   ]
  },
  {
   "cell_type": "markdown",
   "metadata": {},
   "source": [
    "### Exercise 2: Rewrite your pay program using try and except so that your program handles non-numeric input gracefully by printing a message and exiting the program. The following shows two executions of the program:"
   ]
  },
  {
   "cell_type": "code",
   "execution_count": 10,
   "metadata": {},
   "outputs": [
    {
     "name": "stdout",
     "output_type": "stream",
     "text": [
      "hours: a\n",
      "rateperhour: 18\n",
      "Pay: Oops, wrong input\n"
     ]
    }
   ],
   "source": [
    "hours = input ('hours: ')\n",
    "rateperhour = input ('rateperhour: ')\n",
    "try:\n",
    "    if float(hours) > 40:\n",
    "        pay = ((float(hours) - 40) * (float(rateperhour)*1.5)) + (40 * float(rateperhour))\n",
    "    else:\n",
    "        pay = (float(hours) * float(rateperhour))\n",
    "except:\n",
    "    pay = (\"Oops, wrong input\")\n",
    "print (('Pay:'), pay)"
   ]
  },
  {
   "cell_type": "markdown",
   "metadata": {},
   "source": [
    "### Exercise 3: Write a program to prompt for a score between 0.0 and 1.0. If the score is out of range, print an error message. If the score is between 0.0 and 1.0, print a grade using the following table:"
   ]
  },
  {
   "cell_type": "code",
   "execution_count": 11,
   "metadata": {},
   "outputs": [
    {
     "name": "stdout",
     "output_type": "stream",
     "text": [
      "Please type a score between 0.0 and 1.0:0.92\n",
      "A\n"
     ]
    }
   ],
   "source": [
    "a = input (\"Please type a score between 0.0 and 1.0:\")\n",
    "score = float(a)\n",
    "\n",
    "try:  \n",
    "    if score >= 1.0:\n",
    "        print ('Oops, wrong input')\n",
    "        exit ()\n",
    "    elif score >= 0.9 and score < 1.0:\n",
    "            print (\"A\")\n",
    "    elif score >= 0.8 and score < 0.9:\n",
    "            print (\"B\")\n",
    "    elif score >= 0.7 and score < 0.8:\n",
    "            print (\"C\")\n",
    "    elif score >= 0.6 and score < 0.7:\n",
    "            print (\"D\")\n",
    "    else:\n",
    "        print (\"F\")\n",
    "except:\n",
    "    print (\"F\")"
   ]
  },
  {
   "cell_type": "markdown",
   "metadata": {},
   "source": [
    "## Chapter 4"
   ]
  },
  {
   "cell_type": "markdown",
   "metadata": {},
   "source": [
    "### Exercise 5: What will the following Python program print out? (See textbook page 54)\n",
    "### def fred():\n",
    "###     print(\"Zap\")\n",
    "### def jane():\n",
    "###     print(\"ABC\")"
   ]
  },
  {
   "cell_type": "code",
   "execution_count": 12,
   "metadata": {},
   "outputs": [
    {
     "name": "stdout",
     "output_type": "stream",
     "text": [
      "Zap\n",
      "ABC\n"
     ]
    }
   ],
   "source": [
    "def fred ():\n",
    "    print (\"Zap\")\n",
    "fred ()\n",
    "\n",
    "def jane ():\n",
    "    print (\"ABC\")\n",
    "jane()"
   ]
  },
  {
   "cell_type": "markdown",
   "metadata": {},
   "source": [
    "### Exercise 6: Rewrite your pay computation with time-and-a-half for over-time and create a function called computepay which takes two parameters (hours and rate)."
   ]
  },
  {
   "cell_type": "code",
   "execution_count": 13,
   "metadata": {},
   "outputs": [
    {
     "name": "stdout",
     "output_type": "stream",
     "text": [
      "Hours:58\n",
      "Rate:18\n",
      "Pay: 1206.0\n"
     ]
    }
   ],
   "source": [
    "hours = input(\"Hours:\")\n",
    "rate = input(\"Rate:\")\n",
    "\n",
    "if float(hours) > 40:\n",
    "    overhours = float(hours) - 40\n",
    "    def computepay (overhours, rate):\n",
    "        pay = (float(overhours) * float(rate) * 1.5) + (40 * float(rate))\n",
    "        return pay\n",
    "    x = computepay (overhours, rate)\n",
    "    print (('Pay:'), x)\n",
    "else:\n",
    "    def computepay (hours, rate):\n",
    "        pay = float(hours) * float(rate)\n",
    "        return pay\n",
    "    x = computepay (hours, rate)\n",
    "    print (('Pay:'), x)"
   ]
  },
  {
   "cell_type": "markdown",
   "metadata": {},
   "source": [
    "### Exercise 7: Rewrite the grade program from the previous chapter using a function called computegrade that takes a score as its parameter and returns a grade as a string."
   ]
  },
  {
   "cell_type": "code",
   "execution_count": 14,
   "metadata": {},
   "outputs": [
    {
     "name": "stdout",
     "output_type": "stream",
     "text": [
      "Please type a score between 0.0 and 1.0:0.98\n",
      "A\n"
     ]
    }
   ],
   "source": [
    "a = input (\"Please type a score between 0.0 and 1.0:\")\n",
    "score = float(a)\n",
    "\n",
    "try:\n",
    "    def computegrade ():\n",
    "        if score >= 1.0:\n",
    "            print ('Oops, wrong input')\n",
    "            exit ()\n",
    "        elif score >= 0.9 and score < 1.0:\n",
    "            print (\"A\")\n",
    "        elif score >= 0.8 and score < 0.9:\n",
    "            print (\"B\")\n",
    "        elif score >= 0.7 and score < 0.8:\n",
    "            print (\"C\")\n",
    "        elif score >= 0.6 and score < 0.7:\n",
    "            print (\"D\")\n",
    "        else:\n",
    "            print (\"F\")\n",
    "    computegrade ()\n",
    "except:\n",
    "    print (\"F\")"
   ]
  }
 ],
 "metadata": {
  "kernelspec": {
   "display_name": "Python 3",
   "language": "python",
   "name": "python3"
  },
  "language_info": {
   "codemirror_mode": {
    "name": "ipython",
    "version": 3
   },
   "file_extension": ".py",
   "mimetype": "text/x-python",
   "name": "python",
   "nbconvert_exporter": "python",
   "pygments_lexer": "ipython3",
   "version": "3.7.3"
  }
 },
 "nbformat": 4,
 "nbformat_minor": 2
}
