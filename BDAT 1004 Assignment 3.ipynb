{
 "cells": [
  {
   "cell_type": "markdown",
   "metadata": {},
   "source": [
    "# Assignment 3 Iterations, Strings, Files, Lists and Tuples"
   ]
  },
  {
   "cell_type": "markdown",
   "metadata": {},
   "source": [
    "## Chapter 5"
   ]
  },
  {
   "cell_type": "markdown",
   "metadata": {},
   "source": [
    "### Exercise 1"
   ]
  },
  {
   "cell_type": "code",
   "execution_count": 229,
   "metadata": {},
   "outputs": [
    {
     "name": "stdout",
     "output_type": "stream",
     "text": [
      "Enter a number: -3\n",
      "Enter a number: 91\n",
      "Enter a number: d0\n",
      "Invalid input\n",
      "Enter a number: 63\n",
      "Enter a number: 39\n",
      "Enter a number: 18\n",
      "Enter a number: done\n",
      "208 5 41.6\n"
     ]
    }
   ],
   "source": [
    "total = 0\n",
    "count = 0\n",
    "while True:\n",
    "    number = input('Enter a number: ')\n",
    "    if number == 'done':\n",
    "        break\n",
    "    try:\n",
    "        number = int(number)\n",
    "    except :\n",
    "        print ('Invalid input')\n",
    "        continue\n",
    "    total += number\n",
    "    count += 1\n",
    "    average = total / float(count)\n",
    "print (total, count, average)"
   ]
  },
  {
   "cell_type": "markdown",
   "metadata": {},
   "source": [
    "### Exercise 2"
   ]
  },
  {
   "cell_type": "code",
   "execution_count": 232,
   "metadata": {},
   "outputs": [
    {
     "name": "stdout",
     "output_type": "stream",
     "text": [
      "Enter a number: -489\n",
      "Enter a number: -95\n",
      "Enter a number: qq\n",
      "Invaild input\n",
      "Enter a number: 4782\n",
      "Enter a number: 32\n",
      "Enter a number: done\n",
      "Total: 4438 \n",
      "The maximum number is: 4782 \n",
      "The minimum number is: -489\n"
     ]
    }
   ],
   "source": [
    "list = []\n",
    "while True:\n",
    "    number = input ('Enter a number: ')\n",
    "    if number == 'done':\n",
    "        break\n",
    "    try:\n",
    "        number = int(number)\n",
    "        list.append(number)\n",
    "    except:\n",
    "        print ('Invaild input')\n",
    "        continue\n",
    "    total += number   \n",
    "print ('Total:', total, '\\nThe maximum number is:', max(list), '\\nThe minimum number is:', min(list))"
   ]
  },
  {
   "cell_type": "markdown",
   "metadata": {},
   "source": [
    "## Chapter 6"
   ]
  },
  {
   "cell_type": "markdown",
   "metadata": {},
   "source": [
    "### Exercise 5"
   ]
  },
  {
   "cell_type": "code",
   "execution_count": 7,
   "metadata": {},
   "outputs": [
    {
     "name": "stdout",
     "output_type": "stream",
     "text": [
      "0.8475\n"
     ]
    },
    {
     "data": {
      "text/plain": [
       "float"
      ]
     },
     "execution_count": 7,
     "metadata": {},
     "output_type": "execute_result"
    }
   ],
   "source": [
    "string = 'X-DSPAM-Confidence:0.8475'\n",
    "a = string.find(':')\n",
    "b = float(string[a+1:])\n",
    "print (b) \n",
    "type(b)"
   ]
  },
  {
   "cell_type": "markdown",
   "metadata": {},
   "source": [
    "## Chapter 7"
   ]
  },
  {
   "cell_type": "markdown",
   "metadata": {},
   "source": [
    "### Exercise 2"
   ]
  },
  {
   "cell_type": "code",
   "execution_count": 67,
   "metadata": {},
   "outputs": [
    {
     "name": "stdout",
     "output_type": "stream",
     "text": [
      "Enter file name:mbox.txt\n",
      "Average spam confidence: 0.8941280467445736\n"
     ]
    }
   ],
   "source": [
    "filename = input ('Enter file name:')\n",
    "a = open (filename)\n",
    "total_value = 0\n",
    "total_count = 0\n",
    "for line in a:\n",
    "    if not line.startswith('X-DSPAM-Confidence:'):\n",
    "        continue\n",
    "    index_before_number = line.find(':')+1\n",
    "    total_value = float(line[index_before_number:]) + total_value\n",
    "    total_count = total_count + 1\n",
    "print ('Average spam confidence:', (total_value/total_count))"
   ]
  },
  {
   "cell_type": "markdown",
   "metadata": {},
   "source": [
    "## Chapter 8"
   ]
  },
  {
   "cell_type": "markdown",
   "metadata": {},
   "source": [
    "### Exercise 4"
   ]
  },
  {
   "cell_type": "code",
   "execution_count": 3,
   "metadata": {},
   "outputs": [
    {
     "name": "stdout",
     "output_type": "stream",
     "text": [
      "Enter file name:romeo.txt\n",
      "['Arise', 'But', 'It', 'Juliet', 'Who', 'already', 'and', 'breaks', 'east', 'envious', 'fair', 'grief', 'is', 'kill', 'light', 'moon', 'pale', 'sick', 'soft', 'sun', 'the', 'through', 'what', 'window', 'with', 'yonder']\n"
     ]
    }
   ],
   "source": [
    "filename = input ('Enter file name:')\n",
    "a = open (filename)\n",
    "b = []  # 建一个列表\n",
    "for line in a: #遍历整个txt file\n",
    "    line = line.strip()\n",
    "    words = line.split()\n",
    "    for word in words: #遍历分割单词后的列表\n",
    "        if word not in b:\n",
    "            b.append(word)\n",
    "b.sort(reverse = False) #按首字母升序排序\n",
    "print (b)"
   ]
  },
  {
   "cell_type": "markdown",
   "metadata": {},
   "source": [
    "### Exercise 5"
   ]
  },
  {
   "cell_type": "code",
   "execution_count": 92,
   "metadata": {},
   "outputs": [
    {
     "name": "stdout",
     "output_type": "stream",
     "text": [
      "Enter file name:mbox-short.txt\n",
      "stephen.marquard@uct.ac.za\n",
      "louis@media.berkeley.edu\n",
      "zqian@umich.edu\n",
      "rjlowe@iupui.edu\n",
      "zqian@umich.edu\n",
      "rjlowe@iupui.edu\n",
      "cwen@iupui.edu\n",
      "cwen@iupui.edu\n",
      "gsilver@umich.edu\n",
      "gsilver@umich.edu\n",
      "zqian@umich.edu\n",
      "gsilver@umich.edu\n",
      "wagnermr@iupui.edu\n",
      "zqian@umich.edu\n",
      "antranig@caret.cam.ac.uk\n",
      "gopal.ramasammycook@gmail.com\n",
      "david.horwitz@uct.ac.za\n",
      "david.horwitz@uct.ac.za\n",
      "david.horwitz@uct.ac.za\n",
      "david.horwitz@uct.ac.za\n",
      "stephen.marquard@uct.ac.za\n",
      "louis@media.berkeley.edu\n",
      "louis@media.berkeley.edu\n",
      "ray@media.berkeley.edu\n",
      "cwen@iupui.edu\n",
      "cwen@iupui.edu\n",
      "cwen@iupui.edu\n",
      "There are 27 lines in the file with From as the first word\n"
     ]
    }
   ],
   "source": [
    "filename = input ('Enter file name:')\n",
    "a = open (filename)\n",
    "lines = 0\n",
    "for line in a:   #遍历整个txt file\n",
    "    line = line.strip()  #删除开头字符是‘From’的循环\n",
    "    if not line.startswith('From:'):\n",
    "        continue\n",
    "    mail = line.split() #分割\n",
    "    print (mail[1])   #提取‘From’后面的邮箱信息\n",
    "    lines = lines + 1       \n",
    "print ('There are', lines, 'lines in the file with From as the first word')"
   ]
  },
  {
   "cell_type": "markdown",
   "metadata": {},
   "source": [
    "## Chapter 9"
   ]
  },
  {
   "cell_type": "markdown",
   "metadata": {},
   "source": [
    "### Exercise 4"
   ]
  },
  {
   "cell_type": "code",
   "execution_count": 97,
   "metadata": {},
   "outputs": [
    {
     "name": "stdout",
     "output_type": "stream",
     "text": [
      "Enter file name:mbox.txt\n",
      "zqian@umich.edu 390\n"
     ]
    }
   ],
   "source": [
    "filename = input ('Enter file name:')\n",
    "a = open (filename)\n",
    "b = dict()\n",
    "for line in a:\n",
    "    line = line.strip()\n",
    "    if not line.startswith('From'):\n",
    "        continue\n",
    "    words = line.split()\n",
    "    email = words[1]\n",
    "    b[words[1]] = 1 + b.get(words[1],0)\n",
    "sort_list = sorted([(v,k) for k,v in b.items()],revElfinerse=True)\n",
    "print(sort_list[0][1],sort_list[0][0])"
   ]
  },
  {
   "cell_type": "markdown",
   "metadata": {},
   "source": [
    "### Exercise 5"
   ]
  },
  {
   "cell_type": "code",
   "execution_count": 211,
   "metadata": {},
   "outputs": [
    {
     "name": "stdout",
     "output_type": "stream",
     "text": [
      "Enter file name:mbox-short.txt\n",
      "{'uct.ac.za': 6, 'media.berkeley.edu': 4, 'umich.edu': 7, 'iupui.edu': 8, 'caret.cam.ac.uk': 1, 'gmail.com': 1}\n"
     ]
    }
   ],
   "source": [
    "filename = input ('Enter file name:')\n",
    "a = open (filename)\n",
    "b = {}\n",
    "for line in a:\n",
    "    if line.startswith('From:'):\n",
    "        line = line.strip()\n",
    "        words = line.find('@')\n",
    "        domain = line[words+1:]\n",
    "        b[domain] = b.get(domain,0)+1\n",
    "print(b)"
   ]
  },
  {
   "cell_type": "markdown",
   "metadata": {},
   "source": [
    "## Chapter 10 "
   ]
  },
  {
   "cell_type": "markdown",
   "metadata": {},
   "source": [
    "### Exercise 2"
   ]
  },
  {
   "cell_type": "code",
   "execution_count": 198,
   "metadata": {},
   "outputs": [
    {
     "name": "stdout",
     "output_type": "stream",
     "text": [
      "Enter file name: mbox-short.txt\n",
      "04 3\n",
      "06 1\n",
      "07 1\n",
      "09 2\n",
      "10 3\n",
      "11 6\n",
      "14 1\n",
      "15 2\n",
      "16 4\n",
      "17 2\n",
      "18 1\n",
      "19 1\n"
     ]
    }
   ],
   "source": [
    "filename = input('Enter file name: ')\n",
    "a = open(filename)\n",
    "b = dict()\n",
    "for line in a:\n",
    "    if not line.startswith('From '):\n",
    "        continue\n",
    "    time = line.split()[5]\n",
    "    hour = time.split(\":\")[0]\n",
    "    b[hour] = b.get(hour, 0) + 1\n",
    "\n",
    "lst = []\n",
    "for key in b:\n",
    "    lst.append((key, b[key]))\n",
    "\n",
    "sorted_list = sorted(lst)\n",
    "\n",
    "for item in sorted_list:\n",
    "    print (item[0], item[1])"
   ]
  },
  {
   "cell_type": "markdown",
   "metadata": {},
   "source": [
    "### Excercise 3"
   ]
  },
  {
   "cell_type": "code",
   "execution_count": 5,
   "metadata": {},
   "outputs": [
    {
     "name": "stdout",
     "output_type": "stream",
     "text": [
      "Enter file name: mbox-short.txt\n",
      "1257 f\n",
      "4064 r\n",
      "1257 f\n",
      "4174 o\n",
      "4064 r\n",
      "1257 f\n",
      "4174 o\n",
      "4064 r\n",
      "2436 m\n",
      "1257 f\n",
      "4174 o\n",
      "4064 r\n",
      "3738 s\n",
      "2436 m\n",
      "1257 f\n",
      "4174 o\n",
      "4064 r\n",
      "4050 t\n",
      "3738 s\n",
      "2436 m\n",
      "1257 f\n",
      "5436 e\n",
      "4174 o\n",
      "4064 r\n",
      "4050 t\n",
      "3738 s\n",
      "2436 m\n",
      "1257 f\n",
      "5436 e\n",
      "4174 o\n",
      "4064 r\n",
      "4050 t\n",
      "3738 s\n",
      "2497 p\n",
      "2436 m\n",
      "1257 f\n",
      "5436 e\n",
      "4174 o\n",
      "4064 r\n",
      "4050 t\n",
      "3738 s\n",
      "2497 p\n",
      "2436 m\n",
      "1392 h\n",
      "1257 f\n",
      "5436 e\n",
      "4174 o\n",
      "4064 r\n",
      "4050 t\n",
      "3738 s\n",
      "2575 n\n",
      "2497 p\n",
      "2436 m\n",
      "1392 h\n",
      "1257 f\n",
      "5436 e\n",
      "5223 a\n",
      "4174 o\n",
      "4064 r\n",
      "4050 t\n",
      "3738 s\n",
      "2575 n\n",
      "2497 p\n",
      "2436 m\n",
      "1392 h\n",
      "5436 e\n",
      "5223 a\n",
      "4174 o\n",
      "4064 r\n",
      "4050 t\n",
      "3738 s\n",
      "2575 n\n",
      "2497 p\n",
      "2436 m\n",
      "1392 h\n",
      "5436 e\n",
      "5223 a\n",
      "4174 o\n",
      "4064 r\n",
      "4050 t\n",
      "3738 s\n",
      "3123 u\n",
      "2575 n\n",
      "2497 p\n",
      "2436 m\n",
      "5436 e\n",
      "5223 a\n",
      "4174 o\n",
      "4064 r\n",
      "4050 t\n",
      "3738 s\n",
      "3123 u\n",
      "2575 n\n",
      "2497 p\n",
      "2436 m\n",
      "5436 e\n",
      "5223 a\n",
      "4174 o\n",
      "4064 r\n",
      "4050 t\n",
      "3738 s\n",
      "3123 u\n",
      "3088 c\n",
      "2575 n\n",
      "2497 p\n",
      "5436 e\n",
      "5223 a\n",
      "4174 o\n",
      "4064 r\n",
      "4050 t\n",
      "3738 s\n",
      "3123 u\n",
      "3088 c\n",
      "2575 n\n",
      "2497 p\n",
      "5436 e\n",
      "5223 a\n",
      "4174 o\n",
      "4064 r\n",
      "4050 t\n",
      "3738 s\n",
      "3123 u\n",
      "3088 c\n",
      "2575 n\n",
      "2497 p\n",
      "5436 e\n",
      "5223 a\n",
      "4174 o\n",
      "4064 r\n",
      "4050 t\n",
      "3738 s\n",
      "3123 u\n",
      "3088 c\n",
      "2575 n\n",
      "2497 p\n",
      "5436 e\n",
      "5223 a\n",
      "4174 o\n",
      "4064 r\n",
      "4050 t\n",
      "3738 s\n",
      "3466 0\n",
      "3123 u\n",
      "3088 c\n",
      "2575 n\n",
      "5436 e\n",
      "5223 a\n",
      "4174 o\n",
      "4064 r\n",
      "4050 t\n",
      "3738 s\n",
      "3466 0\n",
      "3123 u\n",
      "3088 c\n",
      "2575 n\n",
      "5436 e\n",
      "5223 a\n",
      "4174 o\n",
      "4064 r\n",
      "4050 t\n",
      "3738 s\n",
      "3466 0\n",
      "3123 u\n",
      "3088 c\n",
      "2575 n\n",
      "5436 e\n",
      "5223 a\n",
      "4174 o\n",
      "4064 r\n",
      "4050 t\n",
      "3738 s\n",
      "3466 0\n",
      "3123 u\n",
      "3088 c\n",
      "2575 n\n",
      "5436 e\n",
      "5223 a\n",
      "4174 o\n",
      "4064 r\n",
      "4050 t\n",
      "3738 s\n",
      "3466 0\n",
      "3123 u\n",
      "3088 c\n",
      "2575 n\n",
      "5436 e\n",
      "5223 a\n",
      "4174 o\n",
      "4064 r\n",
      "4050 t\n",
      "3738 s\n",
      "3466 0\n",
      "3123 u\n",
      "3088 c\n",
      "2575 n\n",
      "5436 e\n",
      "5223 a\n",
      "4174 o\n",
      "4064 r\n",
      "4050 t\n",
      "3738 s\n",
      "3466 0\n",
      "3123 u\n",
      "3088 c\n",
      "2575 n\n",
      "5436 e\n",
      "5223 a\n",
      "4174 o\n",
      "4064 r\n",
      "4050 t\n",
      "3738 s\n",
      "3466 0\n",
      "3123 u\n",
      "3088 c\n",
      "2575 n\n",
      "5436 e\n",
      "5223 a\n",
      "4174 o\n",
      "4064 r\n",
      "4050 t\n",
      "3738 s\n",
      "3466 0\n",
      "3123 u\n",
      "3088 c\n",
      "2575 n\n",
      "5436 e\n",
      "5223 a\n",
      "4174 o\n",
      "4064 r\n",
      "4050 t\n",
      "3738 s\n",
      "3466 0\n",
      "3123 u\n",
      "3088 c\n",
      "2575 n\n",
      "5436 e\n",
      "5223 a\n",
      "4494 i\n",
      "4174 o\n",
      "4064 r\n",
      "4050 t\n",
      "3738 s\n",
      "3466 0\n",
      "3123 u\n",
      "3088 c\n",
      "5436 e\n",
      "5223 a\n",
      "4494 i\n",
      "4174 o\n",
      "4064 r\n",
      "4050 t\n",
      "3738 s\n",
      "3466 0\n",
      "3123 u\n",
      "3088 c\n",
      "5436 e\n",
      "5223 a\n",
      "4494 i\n",
      "4174 o\n",
      "4064 r\n",
      "4050 t\n",
      "3738 s\n",
      "3466 0\n",
      "3123 u\n",
      "3088 c\n",
      "5436 e\n",
      "5223 a\n",
      "4494 i\n",
      "4174 o\n",
      "4064 r\n",
      "4050 t\n",
      "3738 s\n",
      "3466 0\n",
      "3123 u\n",
      "3088 c\n",
      "5436 e\n",
      "5223 a\n",
      "4494 i\n",
      "4174 o\n",
      "4064 r\n",
      "4050 t\n",
      "3738 s\n",
      "3466 0\n",
      "3123 u\n",
      "3088 c\n",
      "5436 e\n",
      "5223 a\n",
      "4494 i\n",
      "4174 o\n",
      "4064 r\n",
      "4050 t\n",
      "3738 s\n",
      "3466 0\n",
      "3123 u\n",
      "3088 c\n",
      "5436 e\n",
      "5223 a\n",
      "4494 i\n",
      "4174 o\n",
      "4064 r\n",
      "4050 t\n",
      "3738 s\n",
      "3466 0\n",
      "3123 u\n",
      "3088 c\n",
      "5436 e\n",
      "5223 a\n",
      "4494 i\n",
      "4174 o\n",
      "4064 r\n",
      "4050 t\n",
      "3738 s\n",
      "3466 0\n",
      "3123 u\n",
      "3088 c\n"
     ]
    }
   ],
   "source": [
    "import string\n",
    "\n",
    "filename = input('Enter file name: ')\n",
    "a = open(filename)\n",
    "count = 0\n",
    "counts = dict()\n",
    "lst = list()\n",
    "\n",
    "for line in a:\n",
    "    line = line.translate(str.maketrans('','',string.punctuation))\n",
    "    line = line.lower()\n",
    "    \n",
    "    words = line.split()\n",
    "\n",
    "    for word in words:        \n",
    "        for letter in word:\n",
    "            count += 1\n",
    "            if letter not in counts:\n",
    "                counts[letter] = 1\n",
    "            else:\n",
    "                counts[letter] += 1\n",
    "\n",
    "for key, val in list(counts.items()):\n",
    "    lst.append((val, key))\n",
    "    lst.sort(reverse=True)\n",
    "    for key, val in lst[:10]:\n",
    "        print(key,val)"
   ]
  }
 ],
 "metadata": {
  "kernelspec": {
   "display_name": "Python 3",
   "language": "python",
   "name": "python3"
  },
  "language_info": {
   "codemirror_mode": {
    "name": "ipython",
    "version": 3
   },
   "file_extension": ".py",
   "mimetype": "text/x-python",
   "name": "python",
   "nbconvert_exporter": "python",
   "pygments_lexer": "ipython3",
   "version": "3.7.3"
  }
 },
 "nbformat": 4,
 "nbformat_minor": 2
}
