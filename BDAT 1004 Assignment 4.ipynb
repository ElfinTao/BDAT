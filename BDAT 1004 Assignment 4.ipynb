{
 "cells": [
  {
   "cell_type": "markdown",
   "metadata": {},
   "source": [
    "# Assignment 4 RegEx and Web Services"
   ]
  },
  {
   "cell_type": "markdown",
   "metadata": {},
   "source": [
    "## Chapter 11 "
   ]
  },
  {
   "cell_type": "markdown",
   "metadata": {},
   "source": [
    "### Exercise 1"
   ]
  },
  {
   "cell_type": "code",
   "execution_count": 1,
   "metadata": {},
   "outputs": [
    {
     "name": "stdout",
     "output_type": "stream",
     "text": [
      "Enter a regular expression: ^X-\n",
      "mbox.txt had 14368 lines that matched ^X-\n"
     ]
    }
   ],
   "source": [
    "import re\n",
    "\n",
    "user_input = input(\"Enter a regular expression: \")\n",
    "filename= open('mbox.txt', 'r', encoding='UTF-8')\n",
    "count = 0\n",
    "for line in filename:\n",
    "    line = line.rstrip()\n",
    "    if re.search(user_input, line) :\n",
    "        count += 1\n",
    "#Printing out the results\n",
    "print ('mbox.txt had %d lines' % count,'that matched %s' % user_input)"
   ]
  },
  {
   "cell_type": "markdown",
   "metadata": {},
   "source": [
    "### Exercise 2"
   ]
  },
  {
   "cell_type": "code",
   "execution_count": 2,
   "metadata": {},
   "outputs": [
    {
     "name": "stdout",
     "output_type": "stream",
     "text": [
      "Enter File:mbox-short.txt\n",
      "Average revision number:  39756.92592592593\n"
     ]
    }
   ],
   "source": [
    "import re\n",
    "\n",
    "user_input=input(\"Enter File:\")\n",
    "try:\n",
    "    filename=open(user_input)\n",
    "except:\n",
    "    print(\"File not found\")\n",
    "    exit\n",
    "\n",
    "revs = list()\n",
    "for line in filename:\n",
    "        line = line.rstrip()\n",
    "        rev = re.findall('^New Revision: (\\d+)', line)\n",
    "        if len(rev) > 0:\n",
    "                revs.append(int(rev[0]))\n",
    "print ('Average revision number: ', float(sum(revs))/len(revs))"
   ]
  },
  {
   "cell_type": "markdown",
   "metadata": {},
   "source": [
    "## Chapter 12"
   ]
  },
  {
   "cell_type": "markdown",
   "metadata": {},
   "source": [
    "### Exercise 1"
   ]
  },
  {
   "cell_type": "code",
   "execution_count": 15,
   "metadata": {},
   "outputs": [
    {
     "name": "stdout",
     "output_type": "stream",
     "text": [
      "Enter url: http://data.pr4e.org/romeo.txt\n",
      "Please enter a valid URL\n"
     ]
    },
    {
     "ename": "SystemExit",
     "evalue": "0",
     "output_type": "error",
     "traceback": [
      "An exception has occurred, use %tb to see the full traceback.\n",
      "\u001b[0;31mSystemExit\u001b[0m\u001b[0;31m:\u001b[0m 0\n"
     ]
    }
   ],
   "source": [
    "import socket\n",
    "import os\n",
    "\n",
    "user_url = input(\"Enter url: \")\n",
    "try:\n",
    "    host_name = user_url.split(\"/\")[2]\n",
    "    mysock = socket.socket(socket.AF_INET, socket.SOCK_STREAM)\n",
    "    mysock.connect((host_name, 80))\n",
    "    mysock.send('GET ' + user_url + ' HTTP/1.0\\n\\n')\n",
    "except:\n",
    "    print (\"Please enter a valid URL\")\n",
    "    os.sys.exit(0)\n",
    "\n",
    "while True:\n",
    "    data = mysock.recv(512)\n",
    "    if (len(data) < 1):\n",
    "        break\n",
    "    print(data)\n",
    "\n",
    "mysock.close()"
   ]
  },
  {
   "cell_type": "markdown",
   "metadata": {},
   "source": [
    "### Exercise 2"
   ]
  },
  {
   "cell_type": "code",
   "execution_count": 17,
   "metadata": {},
   "outputs": [
    {
     "name": "stdout",
     "output_type": "stream",
     "text": [
      "Please enter a valid URL\n"
     ]
    },
    {
     "ename": "SystemExit",
     "evalue": "0",
     "output_type": "error",
     "traceback": [
      "An exception has occurred, use %tb to see the full traceback.\n",
      "\u001b[0;31mSystemExit\u001b[0m\u001b[0;31m:\u001b[0m 0\n"
     ]
    }
   ],
   "source": [
    "import socket\n",
    "import os\n",
    "\n",
    "user_url = 'http://data.pr4e.org/romeo.txt'\n",
    "try:\n",
    "    host_name = user_url.split(\"/\")[2]\n",
    "    mysock = socket.socket(socket.AF_INET, socket.SOCK_STREAM)\n",
    "    mysock.connect((host_name, 80))\n",
    "    mysock.send('GET ' + user_url + ' HTTP/1.0\\n\\n')\n",
    "except:\n",
    "    print (\"Please enter a valid URL\")\n",
    "    os.sys.exit(0)\n",
    "\n",
    "count = 0\n",
    "while True:\n",
    "    data = mysock.recv(512)\n",
    "    count += len(data)\n",
    "    if (len(data) < 1) or count >= 3000:\n",
    "        break\n",
    "    print (data)\n",
    "\n",
    "mysock.close()\n",
    "print (count)"
   ]
  },
  {
   "cell_type": "markdown",
   "metadata": {},
   "source": [
    "### Exercise 3"
   ]
  },
  {
   "cell_type": "code",
   "execution_count": 54,
   "metadata": {},
   "outputs": [
    {
     "name": "stdout",
     "output_type": "stream",
     "text": [
      "But soft what light through yonder window breaks\n",
      "It is the east and Juliet is the sun\n",
      "Arise fair sun and kill the envious moon\n",
      "Who is already sick and pale with grief\n",
      "The overall number of characters is:  167\n"
     ]
    }
   ],
   "source": [
    "import urllib.request\n",
    "import urllib.parse\n",
    "import urllib.error\n",
    "\n",
    "url = urllib.request.urlopen('http://data.pr4e.org/romeo.txt')\n",
    "\n",
    "characters = 0\n",
    "for line in url:\n",
    "    words = line.decode()\n",
    "    characters = characters + len(words)\n",
    "    if characters < 3000:\n",
    "        print(line.decode().strip())\n",
    "print('The overall number of characters is: ', characters)"
   ]
  },
  {
   "cell_type": "markdown",
   "metadata": {},
   "source": [
    "### Exercise 4"
   ]
  },
  {
   "cell_type": "code",
   "execution_count": 49,
   "metadata": {},
   "outputs": [
    {
     "name": "stdout",
     "output_type": "stream",
     "text": [
      "Enter an URL: https://www.python.org/\n",
      "Retrieved 48986 characters\n",
      "p Tag Count:  23\n"
     ]
    }
   ],
   "source": [
    "from urllib.request import urlopen\n",
    "from bs4 import BeautifulSoup\n",
    "import ssl\n",
    "\n",
    "ctx = ssl.create_default_context()\n",
    "ctx.check_hostname = False\n",
    "ctx.verify_mode = ssl.CERT_NONE\n",
    "\n",
    "url = input(\"Enter an URL: \")\n",
    "html = urllib.request.urlopen(url, context=ctx).read()\n",
    "print ('Retrieved', len(html), 'characters')\n",
    "\n",
    "soup = BeautifulSoup(html)\n",
    "\n",
    "tags = soup('p')\n",
    "c = len(tags)\n",
    "\n",
    "print ('p Tag Count: ', c)"
   ]
  },
  {
   "cell_type": "markdown",
   "metadata": {},
   "source": [
    "### Exercise 5"
   ]
  },
  {
   "cell_type": "code",
   "execution_count": 14,
   "metadata": {},
   "outputs": [
    {
     "name": "stdout",
     "output_type": "stream",
     "text": [
      " not understand.<br />\n",
      "</p>\n",
      "<hr>\n",
      "<address>Apache/2.4.18 (Ubuntu) Server at do1.dr-chuck.com Port 80</address>\n",
      "</body></html>\n",
      "\n"
     ]
    }
   ],
   "source": [
    "import socket\n",
    "mysock = socket.socket(socket.AF_INET, socket.SOCK_STREAM)\n",
    "mysock.connect( ('data.pr4e.org', 80) )\n",
    "cmd = 'http://data.pr4e.org/mbox.txt HTTP/1.0\\r\\n\\r\\n'.encode()\n",
    "mysock.send(cmd)\n",
    "\n",
    "while True :\n",
    "    data = mysock.recv(1024)\n",
    "    if len(data) < 1 :break\n",
    "    data = data.decode()\n",
    "    y = data.find('\\r\\n\\r\\n')\n",
    "    # print(y) Returns 365 & -1\n",
    "    print(data[365:])\n",
    "\n",
    "mysock.close()"
   ]
  }
 ],
 "metadata": {
  "kernelspec": {
   "display_name": "Python 3",
   "language": "python",
   "name": "python3"
  },
  "language_info": {
   "codemirror_mode": {
    "name": "ipython",
    "version": 3
   },
   "file_extension": ".py",
   "mimetype": "text/x-python",
   "name": "python",
   "nbconvert_exporter": "python",
   "pygments_lexer": "ipython3",
   "version": "3.7.3"
  }
 },
 "nbformat": 4,
 "nbformat_minor": 2
}
